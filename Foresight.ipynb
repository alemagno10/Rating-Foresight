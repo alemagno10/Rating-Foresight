{
 "cells": [
  {
   "cell_type": "code",
   "execution_count": 141,
   "metadata": {},
   "outputs": [],
   "source": [
    "import pandas as pd\n",
    "import random\n",
    "from copy import deepcopy\n",
    "from scipy.linalg import svd, diagsvd\n",
    "import numpy as np\n",
    "import matplotlib.pyplot as plt"
   ]
  },
  {
   "cell_type": "code",
   "execution_count": 142,
   "metadata": {},
   "outputs": [],
   "source": [
    "df = pd.read_csv('data/ratings_small.csv')\n",
    "df.drop(columns=[\"timestamp\"], inplace=True)\n",
    "dfp = df.pivot(index=[\"userId\"], columns=[\"movieId\"])\n",
    "dfp.fillna(2.5, inplace=True)"
   ]
  },
  {
   "cell_type": "code",
   "execution_count": 143,
   "metadata": {},
   "outputs": [],
   "source": [
    "def get(df, dfp):\n",
    "    '''Retorna um index aleatório para (user X movie)'''\n",
    "    ind = [i for i in dfp.index]\n",
    "    col = [j for i,j in dfp.columns]\n",
    "    i = df.iloc[random.randint(0,100003)]\n",
    "    return (ind.index(int(i[\"userId\"])), col.index(int(i[\"movieId\"])))"
   ]
  },
  {
   "cell_type": "code",
   "execution_count": 144,
   "metadata": {},
   "outputs": [],
   "source": [
    "def predict(df,dfp):\n",
    "    A = dfp.to_numpy()\n",
    "    B = deepcopy(A)\n",
    "\n",
    "    ind = get(df,dfp)\n",
    "    B[ind[0]][ind[1]] = random.randint(0,5)\n",
    "\n",
    "    X, Y, Z = svd(B)\n",
    "    Y[-669:] = 0\n",
    "    sigma = diagsvd(Y, B.shape[0], B.shape[1])\n",
    "    B = X @ sigma @ Z\n",
    "    return ind, A[ind[0]][ind[1]], B[ind[0]][ind[1]]"
   ]
  },
  {
   "cell_type": "code",
   "execution_count": 145,
   "metadata": {},
   "outputs": [],
   "source": [
    "def multPredictError(df,dfp,i):\n",
    "    A = dfp.to_numpy()\n",
    "    B = deepcopy(A)\n",
    "\n",
    "    indices = []\n",
    "    for _ in range(i):\n",
    "        ind = get(df,dfp)\n",
    "        B[ind[0]][ind[1]] = random.randint(0,5)\n",
    "        indices.append(ind)\n",
    "\n",
    "    X, Y, Z = svd(B)\n",
    "    Y[-650:] = 0\n",
    "    sigma = diagsvd(Y, B.shape[0], B.shape[1])\n",
    "    B = X @ sigma @ Z\n",
    "\n",
    "    error = np.array([abs(A[ind[0]][ind[1]] - B[ind[0]][ind[1]]) for ind in indices])\n",
    "    return error.mean()"
   ]
  },
  {
   "cell_type": "code",
   "execution_count": 146,
   "metadata": {},
   "outputs": [],
   "source": [
    "# runs = [1,100,200,300,400,500,600,700,800,900,1000]\n",
    "# error = [multPredictError(df,dfp,i) for i in runs]\n",
    "# d = {\"Quantidade de dados com ruído\": runs, \"Média do Erro Absoluto\": error}\n",
    "# print(d)"
   ]
  },
  {
   "cell_type": "code",
   "execution_count": 147,
   "metadata": {},
   "outputs": [],
   "source": [
    "# runs = [1,100,200,300,400,500,600,700,800,900,1000]\n",
    "# ruido = 100\n",
    "# runs = 10\n",
    "# error = [multPredictError(df,dfp,100) for i in range(10)]\n",
    "# d = {\"Quantidade de dados com ruído\": [ruido]*runs, \"Média do Erro Absoluto\": error}\n",
    "# print(d)"
   ]
  },
  {
   "cell_type": "code",
   "execution_count": 148,
   "metadata": {},
   "outputs": [],
   "source": [
    "d = {}\n",
    "for i in [1,100,200,300,400,500,600,700,800,900,1000]:\n",
    "    error = [multPredictError(df,dfp,i) for _ in range(1,11)]\n",
    "    d[i] = error"
   ]
  },
  {
   "cell_type": "code",
   "execution_count": 149,
   "metadata": {},
   "outputs": [
    {
     "name": "stdout",
     "output_type": "stream",
     "text": [
      "       1         100       200       300       400       500       600   \\\n",
      "0  1.219566  1.120945  1.201276  1.131674  1.157394  1.076131  1.102688   \n",
      "1  0.890392  1.071466  1.164892  1.021180  1.090019  1.142438  1.085470   \n",
      "2  0.150961  1.120828  1.016405  1.073381  1.144646  1.119785  1.108297   \n",
      "3  1.400374  1.018835  1.122330  1.114171  1.099248  1.154968  1.141791   \n",
      "4  0.561304  1.126289  1.052876  1.062975  1.093803  1.141661  1.033528   \n",
      "5  2.397244  1.032176  1.199858  1.155988  1.135792  1.126106  1.062822   \n",
      "6  2.393772  1.208163  1.096177  1.109915  1.135073  1.154071  1.128228   \n",
      "7  0.517202  1.340508  1.225339  1.114437  1.073574  1.112532  1.096787   \n",
      "8  2.097504  1.108655  1.103019  1.090730  1.111155  1.132137  1.113456   \n",
      "9  1.014039  1.035764  1.115439  1.137904  1.169605  1.109644  1.100796   \n",
      "\n",
      "       700       800       900       1000  \n",
      "0  1.118583  1.070425  1.129537  1.104546  \n",
      "1  1.118521  1.121963  1.114526  1.104787  \n",
      "2  1.131989  1.107588  1.126308  1.142196  \n",
      "3  1.101215  1.116088  1.050704  1.112166  \n",
      "4  1.098283  1.104668  1.134600  1.143651  \n",
      "5  1.056720  1.121180  1.076767  1.147692  \n",
      "6  1.113998  1.128327  1.094794  1.137791  \n",
      "7  1.122321  1.101259  1.091968  1.106657  \n",
      "8  1.109121  1.134632  1.146158  1.143387  \n",
      "9  1.099228  1.148153  1.075706  1.117160  \n"
     ]
    }
   ],
   "source": [
    "dfa = pd.DataFrame.from_dict(d)\n",
    "print(dfa)\n",
    "dfa.to_csv('dados.csv', index=False)"
   ]
  }
 ],
 "metadata": {
  "kernelspec": {
   "display_name": "Python 3",
   "language": "python",
   "name": "python3"
  },
  "language_info": {
   "codemirror_mode": {
    "name": "ipython",
    "version": 3
   },
   "file_extension": ".py",
   "mimetype": "text/x-python",
   "name": "python",
   "nbconvert_exporter": "python",
   "pygments_lexer": "ipython3",
   "version": "3.11.1"
  },
  "orig_nbformat": 4
 },
 "nbformat": 4,
 "nbformat_minor": 2
}
