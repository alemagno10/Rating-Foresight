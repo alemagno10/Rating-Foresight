{
 "cells": [
  {
   "cell_type": "code",
   "execution_count": 29,
   "metadata": {},
   "outputs": [],
   "source": [
    "import pandas as pd\n",
    "import random\n",
    "from copy import deepcopy\n",
    "from scipy.linalg import svd, diagsvd\n",
    "import numpy as np\n",
    "import matplotlib.pyplot as plt"
   ]
  },
  {
   "cell_type": "code",
   "execution_count": 30,
   "metadata": {},
   "outputs": [],
   "source": [
    "df = pd.read_csv('data/ratings_small.csv')\n",
    "df.drop(columns=[\"timestamp\"], inplace=True)\n",
    "dfp = df.pivot(index=[\"userId\"], columns=[\"movieId\"])\n",
    "dfp.fillna(2.5, inplace=True)\n",
    "A = dfp.to_numpy()"
   ]
  },
  {
   "cell_type": "code",
   "execution_count": 31,
   "metadata": {},
   "outputs": [],
   "source": [
    "def get(df, dfp):\n",
    "    '''Retorna um index aleatório para (user X movie)'''\n",
    "    ind = [i for i in dfp.index]\n",
    "    col = [j for i,j in dfp.columns]\n",
    "    i = df.iloc[random.randint(0,100004)]\n",
    "    return (ind.index(int(i[\"userId\"])), col.index(int(i[\"movieId\"])))"
   ]
  },
  {
   "cell_type": "code",
   "execution_count": 32,
   "metadata": {},
   "outputs": [],
   "source": [
    "def predict(df,dfp):\n",
    "    A = dfp.to_numpy()\n",
    "    B = deepcopy(A)\n",
    "\n",
    "    ind = get(df,dfp)\n",
    "    B[ind[0]][ind[1]] = random.randint(0,5)\n",
    "\n",
    "    X, Y, Z = svd(B)\n",
    "    Y[-650:] = 0\n",
    "    sigma = diagsvd(Y, B.shape[0], B.shape[1])\n",
    "    B = X @ sigma @ Z\n",
    "    \n",
    "    return ind, A[ind[0]][ind[1]], B[ind[0]][ind[1]]"
   ]
  },
  {
   "cell_type": "code",
   "execution_count": 33,
   "metadata": {},
   "outputs": [],
   "source": [
    "# user, notaReal, notaCalculada = predict(df,dfp)\n",
    "# print(user, notaReal, notaCalculada)\n",
    "# print(abs(notaCalculada - notaReal))"
   ]
  },
  {
   "cell_type": "code",
   "execution_count": 34,
   "metadata": {},
   "outputs": [],
   "source": [
    "def multPredictError(df,dfp,i):\n",
    "    A = dfp.to_numpy()\n",
    "    B = deepcopy(A)\n",
    "\n",
    "    indices = []\n",
    "    for _ in range(i):\n",
    "        ind = get(df,dfp)\n",
    "        B[ind[0]][ind[1]] = random.randint(0,5)\n",
    "        indices.append(ind)\n",
    "\n",
    "    X, Y, Z = svd(B)\n",
    "    Y[-650:] = 0\n",
    "    sigma = diagsvd(Y, B.shape[0], B.shape[1])\n",
    "    B = X @ sigma @ Z\n",
    "\n",
    "    error = np.array([abs(A[ind[0]][ind[1]] - B[ind[0]][ind[1]]) for ind in indices])\n",
    "    return error.mean()"
   ]
  },
  {
   "cell_type": "code",
   "execution_count": 35,
   "metadata": {},
   "outputs": [
    {
     "name": "stdout",
     "output_type": "stream",
     "text": [
      "{'Quantidade de dados com ruído': [1, 2], 'Média do Erro Absoluto': [2.3578456833193235, 0.8684930601629064]}\n"
     ]
    }
   ],
   "source": [
    "runs = 1000\n",
    "error = [multPredictError(df,dfp,i) for i in range(1,runs)]\n",
    "d = {\"Quantidade de dados com ruído\": list(range(1,runs)), \"Média do Erro Absoluto\": error}\n",
    "print(d)"
   ]
  },
  {
   "cell_type": "code",
   "execution_count": 36,
   "metadata": {},
   "outputs": [
    {
     "name": "stdout",
     "output_type": "stream",
     "text": [
      "   Quantidade de dados com ruído  Média do Erro Absoluto\n",
      "0                              1                2.357846\n",
      "1                              2                0.868493\n"
     ]
    }
   ],
   "source": [
    "dfa = pd.DataFrame.from_dict(d)\n",
    "print(dfa)\n",
    "dfa.to_csv('dados.csv', index=False)"
   ]
  }
 ],
 "metadata": {
  "kernelspec": {
   "display_name": "Python 3",
   "language": "python",
   "name": "python3"
  },
  "language_info": {
   "codemirror_mode": {
    "name": "ipython",
    "version": 3
   },
   "file_extension": ".py",
   "mimetype": "text/x-python",
   "name": "python",
   "nbconvert_exporter": "python",
   "pygments_lexer": "ipython3",
   "version": "3.11.1"
  },
  "orig_nbformat": 4
 },
 "nbformat": 4,
 "nbformat_minor": 2
}
